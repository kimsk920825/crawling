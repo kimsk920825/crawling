{
 "cells": [
  {
   "cell_type": "markdown",
   "metadata": {},
   "source": [
    "### Exercise 49. 데이터 구조 (튜플)\n",
    "* a, b, c, d, e를 저장하는 튜플을 만들고 첫 번째 튜플값과 마지막 번째 튜플값을 출력하세요."
   ]
  },
  {
   "cell_type": "code",
   "execution_count": 2,
   "metadata": {},
   "outputs": [],
   "source": [
    "tuple = (\"a\",\"b\",\"c\",\"d\",\"e\")"
   ]
  },
  {
   "cell_type": "code",
   "execution_count": 3,
   "metadata": {},
   "outputs": [
    {
     "data": {
      "text/plain": [
       "('a', 'e')"
      ]
     },
     "execution_count": 3,
     "metadata": {},
     "output_type": "execute_result"
    }
   ],
   "source": [
    "tuple[0],tuple[4]"
   ]
  },
  {
   "cell_type": "code",
   "execution_count": 4,
   "metadata": {},
   "outputs": [
    {
     "data": {
      "text/plain": [
       "'e'"
      ]
     },
     "execution_count": 4,
     "metadata": {},
     "output_type": "execute_result"
    }
   ],
   "source": [
    "tuple[-1]"
   ]
  },
  {
   "cell_type": "markdown",
   "metadata": {},
   "source": [
    "### Exercise 50. 데이터 구조 (튜플)\n",
    "* 다음 코드를 작성해서 실행해보고 에러가 나는 이유를 설명하세요.\n",
    "\n",
    "  - 실행코드\n",
    "    ```python\n",
    "    tupledata = ('dave', 'fun-coding', 'endless')\n",
    "    tupledata[0] = 'david'\n",
    "    ```\n",
    "  - 에러\n",
    "    ```python\n",
    "    TypeError                                 Traceback (most recent call last)\n",
    "    <ipython-input-2-db4a259aad24> in <module>()\n",
    "          1 tupledata = ('dave', 'fun-coding', 'endless')\n",
    "    ----> 2 tupledata[0] = 'david'\n",
    "\n",
    "    TypeError: 'tuple' object does not support item assignment\n",
    "    ```"
   ]
  },
  {
   "cell_type": "markdown",
   "metadata": {},
   "source": [
    "튜플 데이터는 수정,삭제,추가를 할 수 없다. "
   ]
  },
  {
   "cell_type": "markdown",
   "metadata": {},
   "source": [
    "### Exercise 51. 데이터 구조 (튜플)\n",
    "* 다음 코드를 읽고, 최종적으로 var1과 var2의 값이 어떤 값이될지 확인해보고, 왜 이렇게 동작하는지 튜플을 기반으로 설명하세요.\n",
    "  - 실행코드\n",
    "    ```python\n",
    "    var1, var2 = 1, 2\n",
    "    var1, var2 = var2, var1\n",
    "    ```"
   ]
  },
  {
   "cell_type": "code",
   "execution_count": 5,
   "metadata": {},
   "outputs": [],
   "source": [
    "var1, var2 = 1,2\n",
    "var1, var2 = var2, var1"
   ]
  },
  {
   "cell_type": "code",
   "execution_count": 6,
   "metadata": {},
   "outputs": [
    {
     "data": {
      "text/plain": [
       "(2, 1)"
      ]
     },
     "execution_count": 6,
     "metadata": {},
     "output_type": "execute_result"
    }
   ],
   "source": [
    "var1, var2"
   ]
  },
  {
   "cell_type": "markdown",
   "metadata": {},
   "source": [
    "### Exercise 52. 데이터 구조 (튜플)\n",
    "* 다음 코드에서 두번째 데이터부터 마지막 데이터를 다음과 같이 출력하세요\n",
    "\n",
    "```python\n",
    "tupledata = ('fun-coding1', 'fun-coding2', 'fun-coding3', 'fun-coding4', 'fun-coding5')\n",
    "```\n",
    "\n",
    "출력:<br>\n",
    "('fun-coding2', 'fun-coding3', 'fun-coding4', 'fun-coding5')"
   ]
  },
  {
   "cell_type": "code",
   "execution_count": 2,
   "metadata": {},
   "outputs": [
    {
     "data": {
      "text/plain": [
       "['fun-coding1', 'fun-coding2', 'fun-coding3', 'fun-coding4', 'fun-coding5']"
      ]
     },
     "execution_count": 2,
     "metadata": {},
     "output_type": "execute_result"
    }
   ],
   "source": [
    "tupledata = ('fun-coding1', 'fun-coding2', 'fun-coding3', 'fun-coding4', 'fun-coding5')\n",
    "data= list(tupledata)\n",
    "data"
   ]
  },
  {
   "cell_type": "code",
   "execution_count": 3,
   "metadata": {},
   "outputs": [],
   "source": [
    "del data[0]"
   ]
  },
  {
   "cell_type": "code",
   "execution_count": 4,
   "metadata": {},
   "outputs": [
    {
     "data": {
      "text/plain": [
       "['fun-coding2', 'fun-coding3', 'fun-coding4', 'fun-coding5']"
      ]
     },
     "execution_count": 4,
     "metadata": {},
     "output_type": "execute_result"
    }
   ],
   "source": [
    "data"
   ]
  },
  {
   "cell_type": "code",
   "execution_count": 5,
   "metadata": {},
   "outputs": [
    {
     "data": {
      "text/plain": [
       "('fun-coding2', 'fun-coding3', 'fun-coding4', 'fun-coding5')"
      ]
     },
     "execution_count": 5,
     "metadata": {},
     "output_type": "execute_result"
    }
   ],
   "source": [
    "tuple(data)"
   ]
  },
  {
   "cell_type": "markdown",
   "metadata": {},
   "source": [
    "### Exercise 53. 데이터 구조 (튜플과 리스트)\n",
    "* 다음 튜플 데이터를 리스트 데이터로 변환한 후에 'fun-coding4' 데이터를 마지막에 추가하고, 다시 튜플 데이터로 변환하세요.\n",
    "```python\n",
    "tupledata = ('fun-coding1', 'fun-coding2', 'fun-coding3')\n",
    "```"
   ]
  },
  {
   "cell_type": "code",
   "execution_count": 17,
   "metadata": {},
   "outputs": [
    {
     "data": {
      "text/plain": [
       "('fun-coding1', 'fun-coding2', 'fun-coding3', 'fun-coding4')"
      ]
     },
     "execution_count": 17,
     "metadata": {},
     "output_type": "execute_result"
    }
   ],
   "source": [
    "tupledata = ('fun-coding1', 'fun-coding2', 'fun-coding3')\n",
    "listed = list(tupledata)\n",
    "listed.append('fun-coding4')\n",
    "listed\n",
    "tupledata = tuple(listed)\n",
    "tupledata"
   ]
  },
  {
   "cell_type": "markdown",
   "metadata": {},
   "source": [
    "### Exercise 54. 데이터 구조 (튜플, 리스트, 딕셔너리)\n",
    "* 비어 있는 튜플, 리스트, 딕셔너리 변수를 하나씩 각각 만드세요."
   ]
  },
  {
   "cell_type": "code",
   "execution_count": 18,
   "metadata": {},
   "outputs": [],
   "source": [
    "tuple = ()\n",
    "list = []\n",
    "dict = {}"
   ]
  },
  {
   "cell_type": "code",
   "execution_count": null,
   "metadata": {},
   "outputs": [],
   "source": [
    "### Exercise 55. 데이터 구조 (딕셔너리)\n",
    "* 다음 영어 사전 데이터를 딕셔너리 변수로 만들고, 딕셔너리 변수의 key 값인 영어단어, value 값인 의미 만을 가진 리스트 변수를 각각 만들고, 두 리스트 변수를 출력하세요.\n",
    "\n",
    "<table>\n",
    "<thead>\n",
    "<tr>\n",
    "<th>영어단어</th>\n",
    "<th>의미</th>\n",
    "</tr>\n",
    "</thead>\n",
    "<tbody>\n",
    "<tr>\n",
    "<td>environment</td>\n",
    "<td>환경</td>\n",
    "</tr>\n",
    "<tr>\n",
    "<td>company</td>\n",
    "<td>회사</td>\n",
    "</tr>\n",
    "<tr>\n",
    "<td>government</td>\n",
    "<td>정부, 정치</td>\n",
    "</tr>\n",
    "<tr>\n",
    "<td>face</td>\n",
    "<td>얼굴</td>\n",
    "</tr>\n",
    "</tbody>\n",
    "</table>\n",
    "\n",
    "* 출력 예\n",
    "<pre>\n",
    "{'environment': '환경', 'company': '회사', 'government': '정부, 정치', 'face': '얼굴'}\n",
    "['environment', 'company', 'government', 'face']\n",
    "['환경', '회사', '정부, 정치', '얼굴']\n",
    "</pre>"
   ]
  }
 ],
 "metadata": {
  "kernelspec": {
   "display_name": "Python 3",
   "language": "python",
   "name": "python3"
  },
  "language_info": {
   "codemirror_mode": {
    "name": "ipython",
    "version": 3
   },
   "file_extension": ".py",
   "mimetype": "text/x-python",
   "name": "python",
   "nbconvert_exporter": "python",
   "pygments_lexer": "ipython3",
   "version": "3.7.6"
  }
 },
 "nbformat": 4,
 "nbformat_minor": 4
}
